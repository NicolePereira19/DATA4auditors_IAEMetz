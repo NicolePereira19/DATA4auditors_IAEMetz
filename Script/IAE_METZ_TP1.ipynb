{
  "nbformat": 4,
  "nbformat_minor": 0,
  "metadata": {
    "colab": {
      "provenance": [],
      "authorship_tag": "ABX9TyMBFzJ3sWuM6MXp3yp8p0qx",
      "include_colab_link": true
    },
    "kernelspec": {
      "name": "python3",
      "display_name": "Python 3"
    },
    "language_info": {
      "name": "python"
    }
  },
  "cells": [
    {
      "cell_type": "markdown",
      "metadata": {
        "id": "view-in-github",
        "colab_type": "text"
      },
      "source": [
        "<a href=\"https://colab.research.google.com/github/NicolePereira19/DATA4auditors_IAEMetz/blob/main/IAE_METZ_TP1.ipynb\" target=\"_parent\"><img src=\"https://colab.research.google.com/assets/colab-badge.svg\" alt=\"Open In Colab\"/></a>"
      ]
    },
    {
      "cell_type": "code",
      "execution_count": null,
      "metadata": {
        "colab": {
          "base_uri": "https://localhost:8080/"
        },
        "id": "y8i3iNAWsPxn",
        "outputId": "60dfe207-64bf-40ae-e490-8642fd90bf71"
      },
      "outputs": [
        {
          "output_type": "stream",
          "name": "stdout",
          "text": [
            "Hello World! IAE METZ for auditors\n"
          ]
        }
      ],
      "source": [
        "# Introduction à Python\n",
        "\n",
        "print(\"Hello World! IAE METZ for auditors\")"
      ]
    },
    {
      "cell_type": "markdown",
      "source": [],
      "metadata": {
        "id": "gFswuiX47IeL"
      }
    },
    {
      "cell_type": "markdown",
      "source": [
        "# Simple Examples\n",
        "Nous allons voir les bases de Python ensemble\n"
      ],
      "metadata": {
        "id": "9B0QU90otPoF"
      }
    },
    {
      "cell_type": "code",
      "source": [
        "# On va définir des variables\n",
        "prenom = \"Nicole\" # est du texte c'est donc un STRING\n",
        "salaire_de_stage = 1700 # INTEGER c'est un ENTIER NATUREL\n",
        "salaire_net = 1680.95 #FLOAT = chiffre à Virgule\n"
      ],
      "metadata": {
        "id": "Qpo3gBWmtBqb"
      },
      "execution_count": null,
      "outputs": []
    },
    {
      "cell_type": "code",
      "source": [
        "print(f\"Je m'appelle {prenom} et je gagnerai {salaire_de_stage}\")"
      ],
      "metadata": {
        "colab": {
          "base_uri": "https://localhost:8080/"
        },
        "id": "0BEhsdVHvwLt",
        "outputId": "91b31d06-9ff2-4889-b49a-731e97780a44"
      },
      "execution_count": null,
      "outputs": [
        {
          "output_type": "stream",
          "name": "stdout",
          "text": [
            "Je m'appelle Nicole et je gagnerai 1700\n"
          ]
        }
      ]
    },
    {
      "cell_type": "code",
      "source": [
        "# ARITHMETIC +++\n",
        "debit1  = 157000\n",
        "debit2 = 1711\n",
        "credit = 157000"
      ],
      "metadata": {
        "id": "im2U_1kvwjBP"
      },
      "execution_count": null,
      "outputs": []
    },
    {
      "cell_type": "code",
      "source": [
        "debit1+debit2"
      ],
      "metadata": {
        "colab": {
          "base_uri": "https://localhost:8080/"
        },
        "id": "5nS9r7I6xBiB",
        "outputId": "4bd12205-62d0-4153-fae4-d240dabb9603"
      },
      "execution_count": null,
      "outputs": [
        {
          "output_type": "execute_result",
          "data": {
            "text/plain": [
              "158711"
            ]
          },
          "metadata": {},
          "execution_count": 8
        }
      ]
    },
    {
      "cell_type": "code",
      "source": [
        "a = debit1\n",
        "b = debit2"
      ],
      "metadata": {
        "id": "pV1XQ5z7xZyx"
      },
      "execution_count": null,
      "outputs": []
    },
    {
      "cell_type": "code",
      "source": [
        "debit1,debit2\n",
        "print(f\"SUM : {debit1+debit2}, DELTA : {a-b}, Produit : {a*b}, Division: {a/b} \")"
      ],
      "metadata": {
        "colab": {
          "base_uri": "https://localhost:8080/"
        },
        "id": "JY5_rzVFxP4K",
        "outputId": "bcbb8876-59c3-4dc5-b7d7-70822888f703"
      },
      "execution_count": null,
      "outputs": [
        {
          "output_type": "stream",
          "name": "stdout",
          "text": [
            "SUM : 158711, DELTA : 155289, Produit : 268627000, Division: 91.75920514319111 \n"
          ]
        }
      ]
    },
    {
      "cell_type": "code",
      "source": [
        "print(f\"Division Integer: {a//b}\")"
      ],
      "metadata": {
        "colab": {
          "base_uri": "https://localhost:8080/"
        },
        "id": "P0sMDKJ8yBGH",
        "outputId": "ef9ef1eb-6ddf-4cbf-a155-c3355775444a"
      },
      "execution_count": null,
      "outputs": [
        {
          "output_type": "stream",
          "name": "stdout",
          "text": [
            "Division Integer: 91\n"
          ]
        }
      ]
    },
    {
      "cell_type": "code",
      "source": [
        "# Liste\n",
        "banks = [\"BDL\", \"BGL\", \"BNP\", \"BIL\"]\n",
        "banks[2]"
      ],
      "metadata": {
        "colab": {
          "base_uri": "https://localhost:8080/",
          "height": 35
        },
        "id": "my6y1ak0ybv2",
        "outputId": "f12fd547-5877-4e20-bc9a-05ed48d507ec"
      },
      "execution_count": null,
      "outputs": [
        {
          "output_type": "execute_result",
          "data": {
            "text/plain": [
              "'BNP'"
            ],
            "application/vnd.google.colaboratory.intrinsic+json": {
              "type": "string"
            }
          },
          "metadata": {},
          "execution_count": 20
        }
      ]
    },
    {
      "cell_type": "code",
      "source": [
        "# Dictionnaire\n",
        "# Non-ordonné et paires-clé\n",
        "valorisation = {\"nom\": \"Nike\", \"actif\" : 37 , \"passif\" : 34}"
      ],
      "metadata": {
        "id": "HZEI5Uy7y_i8"
      },
      "execution_count": null,
      "outputs": []
    },
    {
      "cell_type": "code",
      "source": [
        "print(f\"la valorisation\")"
      ],
      "metadata": {
        "colab": {
          "base_uri": "https://localhost:8080/"
        },
        "id": "LMC2t7-U7Aud",
        "outputId": "ba4eda5b-2940-4587-d52e-cbc0a758322c"
      },
      "execution_count": null,
      "outputs": [
        {
          "output_type": "stream",
          "name": "stdout",
          "text": [
            "la valorisation['nom']\n"
          ]
        }
      ]
    },
    {
      "cell_type": "markdown",
      "source": [
        "# Exemples pour les auditeurs"
      ],
      "metadata": {
        "id": "QOWTXBfo7UgL"
      }
    },
    {
      "cell_type": "code",
      "source": [
        "# Cellule des variables\n",
        "revenus = 100000\n",
        "depenses = 75000"
      ],
      "metadata": {
        "id": "zCHRVB8q7YI5"
      },
      "execution_count": null,
      "outputs": []
    },
    {
      "cell_type": "code",
      "source": [
        "# Cellule des calculs\n",
        "benefice = revenus-depenses\n",
        "print(benefice)\n",
        "taux_imposition_francais = 0.25\n",
        "taux_imposition_luxembourgeois = 0.17\n",
        "taux_imposition_irelande = 0.125"
      ],
      "metadata": {
        "colab": {
          "base_uri": "https://localhost:8080/"
        },
        "id": "BNziMggB73Mb",
        "outputId": "6769efe1-b089-478f-fdbe-58e3967b8936"
      },
      "execution_count": null,
      "outputs": [
        {
          "output_type": "stream",
          "name": "stdout",
          "text": [
            "25000\n"
          ]
        }
      ]
    },
    {
      "cell_type": "code",
      "source": [
        "# Cellule des calculs\n",
        "benefice=revenus-depenses\n",
        "impot_en_France=benefice*taux_imposition_francais"
      ],
      "metadata": {
        "id": "DEKUQLsiMUVg"
      },
      "execution_count": null,
      "outputs": []
    },
    {
      "cell_type": "code",
      "source": [
        "# Cellule des checks/prints\n",
        "print(\"Impot à payer en France\", taux_imposition_francais * benefice, \"€\") #calcul en direct\n",
        "print(\"Impot à payer en France\", impot_en_France,\"€\" ) #calcul préparé en amont"
      ],
      "metadata": {
        "colab": {
          "base_uri": "https://localhost:8080/"
        },
        "id": "aND7MmMWLtco",
        "outputId": "b0e36834-64f9-488c-9044-54403a1e1c48"
      },
      "execution_count": null,
      "outputs": [
        {
          "output_type": "stream",
          "name": "stdout",
          "text": [
            "Impot à payer en France 6250.0 €\n",
            "Impot à payer en France 6250.0 €\n"
          ]
        }
      ]
    },
    {
      "cell_type": "code",
      "source": [
        "# Comparaison entre Irlande, Luxembourg\n",
        "print(\"On compare au Luxembourg\", taux_imposition_luxembourgeois * benefice, \"€\", \"vs en Irlande\", taux_imposition_irelande*benefice, \"€\")\n",
        "impot_au_lux= taux_imposition_luxembourgeois*benefice\n",
        "impot_en_Irlande=taux_imposition_irelande*benefice"
      ],
      "metadata": {
        "colab": {
          "base_uri": "https://localhost:8080/"
        },
        "id": "8kzpPEWmM8lZ",
        "outputId": "d89b56c8-7810-481b-d7bd-e1556fe49206"
      },
      "execution_count": null,
      "outputs": [
        {
          "output_type": "stream",
          "name": "stdout",
          "text": [
            "On compare au Luxembourg 4250.0 € vs en Irlande 3125.0 €\n"
          ]
        }
      ]
    },
    {
      "cell_type": "code",
      "source": [
        "impot_en_France - (taux_imposition_luxembourgeois*benefice)\n",
        "impot_en_France - impot_au_lux\n",
        "benefice_net_francais=benefice-impot_en_France"
      ],
      "metadata": {
        "id": "ni56lGOOOaS6"
      },
      "execution_count": null,
      "outputs": []
    },
    {
      "cell_type": "markdown",
      "source": [
        "# Structure de Contrôle\n"
      ],
      "metadata": {
        "id": "xyKK2PyWPPnK"
      }
    },
    {
      "cell_type": "code",
      "source": [
        "# Conditions (if, elif, else)\n",
        "if benefice_net_francais > 0:\n",
        "  print(\"L'entreprise réalise un bénéfice net. Un bénéfince de\", benefice_net_francais, \"euros\")\n",
        "\n",
        "elif benefice_net_francais==0:\n",
        "  print(\"L'entreprise est à l'équilibre\")\n",
        "\n",
        "else:\n",
        "  print(\"L'entreprise réalise une perte nette\")"
      ],
      "metadata": {
        "colab": {
          "base_uri": "https://localhost:8080/"
        },
        "id": "h969TW5dPTCG",
        "outputId": "124ebf66-62cb-4742-c313-09f8bff02eb6"
      },
      "execution_count": null,
      "outputs": [
        {
          "output_type": "stream",
          "name": "stdout",
          "text": [
            "L'entreprise réalise un bénéfice net. Un bénéfince de 18750.0 euros\n"
          ]
        }
      ]
    },
    {
      "cell_type": "markdown",
      "source": [
        "# Importation des bibliothèques"
      ],
      "metadata": {
        "id": "aZO9jQhbVXUl"
      }
    },
    {
      "cell_type": "markdown",
      "source": [
        "## Les packages se différencient en 2 grandes catégories :\n",
        "## 1. Ceux \"outils\" : contenant des fonctions\n",
        "## 2. Ceux \"de données\" : contenant des données/ valeurs"
      ],
      "metadata": {
        "id": "GsqPaNLyVfwB"
      }
    },
    {
      "cell_type": "code",
      "source": [
        "# Le package d'outils le plus répondu en python est PANDAS (il y a aussi POLARS)\n",
        "import pandas as pd"
      ],
      "metadata": {
        "id": "se1uj1uqVdee"
      },
      "execution_count": 1,
      "outputs": []
    },
    {
      "cell_type": "code",
      "source": [
        "# Le package \"données\" le plus répendu en Python x FINANCE est ... YAHOO! FINANCE\n",
        "import yfinance as yf"
      ],
      "metadata": {
        "id": "pzn_WQiyWBtI"
      },
      "execution_count": 2,
      "outputs": []
    },
    {
      "cell_type": "code",
      "source": [
        "# BLOCK: IMPORTATION DES PACKAGES\n",
        "import yfinance as yf\n",
        "import pandas as pd\n",
        "import matplotlib.pyplot as plt\n",
        "# dans les pacjages \"outils\" vous pouvez sous sélectionner les chapitre"
      ],
      "metadata": {
        "id": "puZLRnVkWNu4"
      },
      "execution_count": 3,
      "outputs": []
    },
    {
      "cell_type": "code",
      "source": [
        "# BLOCK : VARIABLES\n",
        "#Pour une comparaison d'indices selon les pays\n",
        "france_symbol = 'EWQ' # iShares MSCI France ETF\n",
        "ireland_symbol = 'EWK' # iShares MSCI Ireland ETF\n",
        "luxembourg_symbol = 'SPY' # S&P 500 son ETF"
      ],
      "metadata": {
        "id": "vHsb-rcRWdEq"
      },
      "execution_count": 4,
      "outputs": []
    },
    {
      "cell_type": "code",
      "source": [
        "#BLOCK : TIME FRAME\n",
        "start_date = '2010-01-01'\n",
        "end_date = '2025-01-01'"
      ],
      "metadata": {
        "id": "VhtYNGlKW1CT"
      },
      "execution_count": 5,
      "outputs": []
    },
    {
      "cell_type": "code",
      "source": [
        "# Téléchargement des données historique de YFINANCE pour chaque pays\n",
        "france_data = yf.download(france_symbol, start=start_date, end=end_date)\n",
        "irelande_data = yf.download(ireland_symbol, start=start_date, end=end_date)\n",
        "lux_data= yf.download(luxembourg_symbol, start=start_date, end=end_date)"
      ],
      "metadata": {
        "colab": {
          "base_uri": "https://localhost:8080/"
        },
        "id": "4lCgyJM4XBjU",
        "outputId": "142fb5bd-760f-40c6-9c19-d3e5215a100b"
      },
      "execution_count": 10,
      "outputs": [
        {
          "output_type": "stream",
          "name": "stderr",
          "text": [
            "[*********************100%***********************]  1 of 1 completed\n",
            "[*********************100%***********************]  1 of 1 completed\n",
            "[*********************100%***********************]  1 of 1 completed\n"
          ]
        }
      ]
    },
    {
      "cell_type": "code",
      "source": [
        "print(france_data)"
      ],
      "metadata": {
        "colab": {
          "base_uri": "https://localhost:8080/"
        },
        "id": "8eJV-Y7kaCyE",
        "outputId": "ebdf24ff-909c-43f7-f012-f440f0e45768"
      },
      "execution_count": 11,
      "outputs": [
        {
          "output_type": "stream",
          "name": "stdout",
          "text": [
            "Price           Close       High        Low       Open  Volume\n",
            "Ticker            EWQ        EWQ        EWQ        EWQ     EWQ\n",
            "Date                                                          \n",
            "2010-01-04  17.787552  17.827419  17.641370  17.641370   97400\n",
            "2010-01-05  17.741032  17.867278  17.674586  17.847345  164100\n",
            "2010-01-06  17.834059  17.840703  17.687878  17.734390  117300\n",
            "2010-01-07  17.754322  17.787546  17.634721  17.648009   87500\n",
            "2010-01-08  18.000174  18.006818  17.760968  17.787547  155400\n",
            "...               ...        ...        ...        ...     ...\n",
            "2024-12-24  35.970001  36.009998  35.619999  35.730000  187100\n",
            "2024-12-26  36.119999  36.200001  35.939999  35.959999  216600\n",
            "2024-12-27  36.060001  36.139999  35.900002  35.959999  758900\n",
            "2024-12-30  35.810001  35.910000  35.650002  35.900002  361400\n",
            "2024-12-31  35.880001  36.169998  35.799999  36.169998  401800\n",
            "\n",
            "[3774 rows x 5 columns]\n"
          ]
        }
      ]
    },
    {
      "cell_type": "code",
      "source": [
        "# BLOCK : ANALYSE DES DATAFRAMES\n",
        "# IL y a des jours fériés donc il y a des valeurs nulles\n",
        "france_data.isnull().sum()\n",
        "# DATA_FRAME.FUNCTION_NAME()\n"
      ],
      "metadata": {
        "colab": {
          "base_uri": "https://localhost:8080/",
          "height": 269
        },
        "id": "vrNYnz5jaL6-",
        "outputId": "11b34862-8087-4ec3-a07f-e9372356273a"
      },
      "execution_count": 12,
      "outputs": [
        {
          "output_type": "execute_result",
          "data": {
            "text/plain": [
              "Price   Ticker\n",
              "Close   EWQ       0\n",
              "High    EWQ       0\n",
              "Low     EWQ       0\n",
              "Open    EWQ       0\n",
              "Volume  EWQ       0\n",
              "dtype: int64"
            ],
            "text/html": [
              "<div>\n",
              "<style scoped>\n",
              "    .dataframe tbody tr th:only-of-type {\n",
              "        vertical-align: middle;\n",
              "    }\n",
              "\n",
              "    .dataframe tbody tr th {\n",
              "        vertical-align: top;\n",
              "    }\n",
              "\n",
              "    .dataframe thead th {\n",
              "        text-align: right;\n",
              "    }\n",
              "</style>\n",
              "<table border=\"1\" class=\"dataframe\">\n",
              "  <thead>\n",
              "    <tr style=\"text-align: right;\">\n",
              "      <th></th>\n",
              "      <th></th>\n",
              "      <th>0</th>\n",
              "    </tr>\n",
              "    <tr>\n",
              "      <th>Price</th>\n",
              "      <th>Ticker</th>\n",
              "      <th></th>\n",
              "    </tr>\n",
              "  </thead>\n",
              "  <tbody>\n",
              "    <tr>\n",
              "      <th>Close</th>\n",
              "      <th>EWQ</th>\n",
              "      <td>0</td>\n",
              "    </tr>\n",
              "    <tr>\n",
              "      <th>High</th>\n",
              "      <th>EWQ</th>\n",
              "      <td>0</td>\n",
              "    </tr>\n",
              "    <tr>\n",
              "      <th>Low</th>\n",
              "      <th>EWQ</th>\n",
              "      <td>0</td>\n",
              "    </tr>\n",
              "    <tr>\n",
              "      <th>Open</th>\n",
              "      <th>EWQ</th>\n",
              "      <td>0</td>\n",
              "    </tr>\n",
              "    <tr>\n",
              "      <th>Volume</th>\n",
              "      <th>EWQ</th>\n",
              "      <td>0</td>\n",
              "    </tr>\n",
              "  </tbody>\n",
              "</table>\n",
              "</div><br><label><b>dtype:</b> int64</label>"
            ]
          },
          "metadata": {},
          "execution_count": 12
        }
      ]
    },
    {
      "cell_type": "code",
      "source": [
        "# Calcul des rdt quotidiens pour chacun des fonds\n",
        "lux_return = lux_data.pct_change().dropna()\n",
        "irelande_return = irelande_data.pct_change().dropna()\n",
        "france_return = france_data.pct_change().dropna()"
      ],
      "metadata": {
        "id": "YFF9ealjbOpu"
      },
      "execution_count": 15,
      "outputs": []
    },
    {
      "cell_type": "code",
      "source": [
        "#calcul de la rentabilité cumulée des fonds sur une période\n",
        "lux_cumulative_return = (1+lux_return).cumprod()-1\n",
        "irelande_cumulative_return = (1+irelande_return).cumprod()-1\n",
        "france_cumulative_return = (1+france_return).cumprod()-1"
      ],
      "metadata": {
        "id": "JNyUnviqdxN_"
      },
      "execution_count": 19,
      "outputs": []
    },
    {
      "cell_type": "code",
      "source": [
        "# BLOCK : GRAHIQUES\n",
        "# présentation à des investisseurs des rdt vu à un DATAFRAME\n",
        "print(lux_data.head())\n",
        "print(irelande_data.head())\n",
        "print(france_data.head())"
      ],
      "metadata": {
        "colab": {
          "base_uri": "https://localhost:8080/"
        },
        "id": "KmtVi9GIeZNh",
        "outputId": "c92cd59c-8c77-4988-c7ef-0dc3ff56d718"
      },
      "execution_count": 20,
      "outputs": [
        {
          "output_type": "stream",
          "name": "stdout",
          "text": [
            "Price           Close       High        Low       Open     Volume\n",
            "Ticker            SPY        SPY        SPY        SPY        SPY\n",
            "Date                                                             \n",
            "2010-01-04  86.026459  86.072002  84.644935  85.297743  118944600\n",
            "2010-01-05  86.254211  86.292168  85.662130  85.973356  111579900\n",
            "2010-01-06  86.314903  86.527445  86.102362  86.170676  116074400\n",
            "2010-01-07  86.679237  86.785508  85.912566  86.155471  131091100\n",
            "2010-01-08  86.967720  87.005676  86.276961  86.451546  126402800\n",
            "Price          Close      High       Low      Open  Volume\n",
            "Ticker           EWK       EWK       EWK       EWK     EWK\n",
            "Date                                                      \n",
            "2010-01-04  8.644099  8.729102  8.572174  8.572174  329400\n",
            "2010-01-05  8.748721  8.781415  8.683334  8.729105  451600\n",
            "2010-01-06  8.801026  8.801026  8.689869  8.689869   71800\n",
            "2010-01-07  8.742180  8.761796  8.696409  8.742180   46000\n",
            "2010-01-08  8.781411  8.801027  8.696409  8.696409  391700\n",
            "Price           Close       High        Low       Open  Volume\n",
            "Ticker            EWQ        EWQ        EWQ        EWQ     EWQ\n",
            "Date                                                          \n",
            "2010-01-04  17.787552  17.827419  17.641370  17.641370   97400\n",
            "2010-01-05  17.741032  17.867278  17.674586  17.847345  164100\n",
            "2010-01-06  17.834059  17.840703  17.687878  17.734390  117300\n",
            "2010-01-07  17.754322  17.787546  17.634721  17.648009   87500\n",
            "2010-01-08  18.000174  18.006818  17.760968  17.787547  155400\n"
          ]
        }
      ]
    },
    {
      "cell_type": "code",
      "source": [],
      "metadata": {
        "id": "mgCXCwQTeqqp"
      },
      "execution_count": null,
      "outputs": []
    }
  ]
}
